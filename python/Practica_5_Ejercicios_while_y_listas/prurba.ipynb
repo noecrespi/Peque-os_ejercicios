{
 "cells": [
  {
   "cell_type": "code",
   "execution_count": 6,
   "metadata": {},
   "outputs": [
    {
     "name": "stdout",
     "output_type": "stream",
     "text": [
      "A ver si te atreves a adivinar las tres adivinanzas\n",
      "¿Qué es lo que tiene cuatro patas en la mañana, dos en la tarde y tres en la noche? \n"
     ]
    }
   ],
   "source": [
    "# Desarrolla un programa que tenga las siguientes características:\n",
    "    # Piensa en un problema que requiera para su resolución el uso de sentencias repetitivas.\n",
    "    # Dicho problema resuélvelo con bucles for y while. \n",
    "    # Justifica en el propio programa porque una opción es adecuada y la otra no.\n",
    "    # ¿Crees que si medimos el tiempo de ejecución de ambas soluciones demostrará que efectivamente una solución es más eficiente? Investiga para comprobarlo.\n",
    "\n",
    "# programa para adivinar una adivinanza\n",
    "\n",
    "def adivinanza():\n",
    "\n",
    "    print(\"A ver si te atreves a adivinar las tres adivinanzas\")\n",
    "    \n",
    "    print(\"¿Qué es lo que tiene cuatro patas en la mañana, dos en la tarde y tres en la noche? \")\n",
    "    adivinanza1 = input()\n",
    "    contador = 1\n",
    "    intentos = []\n",
    "\n",
    "    user = True\n",
    "\n",
    "    while user == True:\n",
    "        if (adivinanza1 != \"un hombre\") or (adivinanza1 != \"hombre\") :\n",
    "            adivinanza1 = input(\"No has acertado, vuelve a intentarlo: \")\n",
    "            contador += 1\n",
    "        else:\n",
    "            print(\"\\nHas acertado!!! \\nSigamos con la siguiente adivinanza\")\n",
    "            user = False\n",
    "            intentos.append(contador)\n",
    "    \n",
    "    print(\"Soy pequeña y de cristal, méteme al hoyo y no perderás.\")\n",
    "    adivinanza2 = input()\n",
    "    contador = 1\n",
    "\n",
    "    while user == False:\n",
    "        if adivinanza2 != \"canica\" :\n",
    "            adivinanza2 = input(\"No has acertado, vuelve a intentarlo: \")\n",
    "            contador += 1\n",
    "        else:\n",
    "            print(\"Has acertado\")\n",
    "            user = True\n",
    "            intentos.append(contador)\n",
    "\n",
    "    print(\"Zapatos de goma, ojos de cristal, con una manguera me alimentas y dentro de la cochera me guardas.\")\n",
    "    adivinanza3 = input()\n",
    "    contador = 1\n",
    "    \n",
    "    while user == True:\n",
    "        if adivinanza3 != \"coche\" :\n",
    "            adivinanza3 = input(\"No has acertado, vuelve a intentarlo: \")\n",
    "            contador += 1\n",
    "        else:\n",
    "            print(\"Has acertado\")\n",
    "            user = False\n",
    "            intentos.append(contador)\n",
    "    contador = 1\n",
    "\n",
    "    for i in intentos:\n",
    "        i += 1\n",
    "        print(\"Has necesitado \" + str(i) + \" intentos para acertar en la \" + str(contador) + \"acertijo\")\n",
    "        contador += 1\n",
    "\n",
    "\n",
    "adivinanza()"
   ]
  }
 ],
 "metadata": {
  "kernelspec": {
   "display_name": "Python 3.8.2 64-bit",
   "language": "python",
   "name": "python3"
  },
  "language_info": {
   "codemirror_mode": {
    "name": "ipython",
    "version": 3
   },
   "file_extension": ".py",
   "mimetype": "text/x-python",
   "name": "python",
   "nbconvert_exporter": "python",
   "pygments_lexer": "ipython3",
   "version": "3.8.2"
  },
  "orig_nbformat": 4,
  "vscode": {
   "interpreter": {
    "hash": "31f2aee4e71d21fbe5cf8b01ff0e069b9275f58929596ceb00d14d90e3e16cd6"
   }
  }
 },
 "nbformat": 4,
 "nbformat_minor": 2
}
