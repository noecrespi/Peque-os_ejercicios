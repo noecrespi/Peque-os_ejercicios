{
 "cells": [
  {
   "cell_type": "markdown",
   "metadata": {},
   "source": [
    "# Is primo?\n",
    "\n",
    "Escribe un programa que le pida al usuario si quiere calcular si un número es primo deberéis utilizar for o con while, por tanto, habrá dos funciones que se caracterizan por hacer ese mismo cálculo de una manera (con for y sin breaks), o de otra (con while). Ambas funciones devolverán true (si es primo) o false (si no es primo). El programa principal informará del resultado. Además, como mejora puedes calcular el tiempo que tarda en encontrar la solución de una manera u otra. \n",
    "\n",
    "Comentario: aprovecha el código que tienes ya creado"
   ]
  },
  {
   "cell_type": "markdown",
   "metadata": {},
   "source": [
    "## Con for"
   ]
  },
  {
   "cell_type": "code",
   "execution_count": 13,
   "metadata": {},
   "outputs": [
    {
     "name": "stdout",
     "output_type": "stream",
     "text": [
      "El numero 223 es primo = True\n"
     ]
    },
    {
     "data": {
      "text/plain": [
       "True"
      ]
     },
     "execution_count": 13,
     "metadata": {},
     "output_type": "execute_result"
    }
   ],
   "source": [
    "def isPrimo():\n",
    "    num  = int(input(\"Introduce un número: \"))\n",
    "    \n",
    "\n",
    "    for n in range(2,num):\n",
    "        if (num % n) == 0:\n",
    "            print(\"El numero \" + str(num) + \" no es primo = False\")\n",
    "            return False\n",
    "    \n",
    "    print(\"El numero \" + str(num) + \" es primo = True\")\n",
    "    return True\n",
    "\n",
    "\n",
    "isPrimo()\n",
    "\n"
   ]
  },
  {
   "cell_type": "markdown",
   "metadata": {},
   "source": [
    "## Con while"
   ]
  },
  {
   "cell_type": "code",
   "execution_count": 12,
   "metadata": {},
   "outputs": [
    {
     "name": "stdout",
     "output_type": "stream",
     "text": [
      "El numero 223 es primo = True\n"
     ]
    },
    {
     "data": {
      "text/plain": [
       "True"
      ]
     },
     "execution_count": 12,
     "metadata": {},
     "output_type": "execute_result"
    }
   ],
   "source": [
    "def isPrimo():\n",
    "    listaPrimos = True\n",
    "\n",
    "\n",
    "    while listaPrimos == True:\n",
    "        primo = True\n",
    "        num  = int(input(\"Introduce un número: \"))\n",
    "        \n",
    "        if num == 0:\n",
    "            return False\n",
    "        else: \n",
    "            for n in range(2,num):\n",
    "                if (num % n) == 0:\n",
    "                    primo = False\n",
    "            \n",
    "            if primo == True:\n",
    "                print(\"El numero \" + str(num) + \" es primo = True\")\n",
    "                return True\n",
    "            else:\n",
    "                print(\"El numero \" + str(num) + \" no es primo = False\")\n",
    "                return False\n",
    "            \n",
    "\n",
    "\n",
    "isPrimo()\n"
   ]
  }
 ],
 "metadata": {
  "kernelspec": {
   "display_name": "Python 3.8.2 64-bit",
   "language": "python",
   "name": "python3"
  },
  "language_info": {
   "codemirror_mode": {
    "name": "ipython",
    "version": 3
   },
   "file_extension": ".py",
   "mimetype": "text/x-python",
   "name": "python",
   "nbconvert_exporter": "python",
   "pygments_lexer": "ipython3",
   "version": "3.8.2"
  },
  "orig_nbformat": 4,
  "vscode": {
   "interpreter": {
    "hash": "31f2aee4e71d21fbe5cf8b01ff0e069b9275f58929596ceb00d14d90e3e16cd6"
   }
  }
 },
 "nbformat": 4,
 "nbformat_minor": 2
}
